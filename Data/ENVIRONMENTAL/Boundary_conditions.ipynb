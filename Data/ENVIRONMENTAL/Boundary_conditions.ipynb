{
 "cells": [
  {
   "cell_type": "markdown",
   "metadata": {},
   "source": [
    "## Libraries and imports"
   ]
  },
  {
   "cell_type": "code",
   "execution_count": 1,
   "metadata": {},
   "outputs": [],
   "source": [
    "#analysis \n",
    "from datetime import date\n",
    "\n",
    "\n",
    "import numpy as np\n",
    "import pandas as pd\n",
    "#graphing\n",
    "import plotly.express as px\n",
    "import plotly.graph_objects as go\n",
    "from plotly.subplots import make_subplots"
   ]
  },
  {
   "cell_type": "code",
   "execution_count": 2,
   "metadata": {},
   "outputs": [],
   "source": [
    "from pathlib import Path\n",
    "path_cwd=Path.cwd()\n",
    "\n",
    "import sys\n",
    "sys.path.append(str(path_cwd)+'/Functions')\n",
    "import functions_reading,functions_plotting,functions_data,functions_calculations\n",
    "\n",
    "from functions_reading import reading_hobo,reading_BGI,reading_JP,reading_RAD, reading_solcast\n",
    "from functions_plotting import visually_compare, plot_ts\n",
    "from functions_data import cut_merge,correlation_fun, replace_nans_list, replace_nans_one\n",
    "from functions_calculations import vpd\n",
    "\n",
    "from functools import reduce"
   ]
  },
  {
   "cell_type": "markdown",
   "metadata": {},
   "source": [
    "## Reading + Processing"
   ]
  },
  {
   "cell_type": "code",
   "execution_count": 3,
   "metadata": {},
   "outputs": [],
   "source": [
    "hobow_=reading_hobo() #Wasootch\n",
    "BGI=reading_BGI() #BioGeoScience Institute\n",
    "JP=reading_JP() #Jumpingpound\n",
    "\n",
    "############# HOBO\n",
    "#merging 2019-2022\n",
    "dfs = [hobow_,BGI,JP]\n",
    "HOBO_COMPLETE_all= reduce(lambda df_left,df_right: pd.merge(df_left, df_right,left_index=True, right_index=True,how='left'),dfs) \n",
    "\n",
    "#replace missing values from Wasootch with BGI and JP\n",
    "HC=HOBO_COMPLETE_all.copy()\n",
    "HOBO_COMPLETE=replace_nans_list(HC,cols_nan=['Rain(mm)','Temp(C)','RH','WS','GS','DP'],cols_replace=['Rain_BGI(mm)','Temp_BGI(C)','RH_JP','WS_JP','GS_JP','DP_JP'])\n",
    "\n",
    "############# RADIATION \n",
    "#CAMPBELL RAD \n",
    "rad=(reading_RAD()).drop(columns=['NetRadAvg']) \n",
    "\n",
    "#BGI RAD\n",
    "BGI_RAD=(HC.copy()).drop(columns=['Temp(C)','Rain(mm)','RH','WS','GS','DP','RH_JP','WS_JP','GS_JP','DP_JP','Temp_BGI(C)','Rain_BGI(mm)'])\n",
    "rad_2=rad.merge(BGI_RAD,how='left', left_on=rad.index, right_on=BGI_RAD.index)\n",
    "rad_2.index = pd.to_datetime(rad_2['key_0'])\n",
    "RAD_COMPLETE_both=rad_2.drop(columns=['key_0'])\n",
    "\n",
    "#Replace NaNs\n",
    "RAD_COMPLETE=replace_nans_one(RAD_COMPLETE_both,'NetRad','Rad_BGI')\n",
    "\n",
    "############# WEATHER \n",
    "WEATHER=(cut_merge(all_dfs=[HOBO_COMPLETE,RAD_COMPLETE])).drop(columns=['Rad_BGI'])\n",
    "\n",
    "############# SOLCAST\n",
    "GHI = reading_solcast()\n",
    "#crop GHI and WEATHER to same time period\n",
    "ghi=GHI.loc[WEATHER.index[0]:WEATHER.index[-1]]\n",
    "weather=WEATHER.loc[ghi.index[0]:ghi.index[-1]]"
   ]
  },
  {
   "cell_type": "markdown",
   "metadata": {},
   "source": [
    "## Calculations"
   ]
  },
  {
   "cell_type": "markdown",
   "metadata": {},
   "source": [
    "### Emissivity\n",
    "Atmospheric emissivity through potential and measured Solar radiation"
   ]
  },
  {
   "cell_type": "code",
   "execution_count": 4,
   "metadata": {},
   "outputs": [],
   "source": [
    "#ASTRAL\n",
    "from astral import LocationInfo\n",
    "from astral.sun import sun\n",
    "from astral.sun import zenith\n",
    "\n",
    "l = LocationInfo()\n",
    "l.name = 'Kananaskis'\n",
    "l.region = 'Alberta'\n",
    "l.latitude = 50.970535344046056\n",
    "l.longitude = -115.0950050354004\n",
    "l.timezone = 'Canada/Mountain'#Etc/GMT-1'\n",
    "l.elevation = 1443\n",
    "\n",
    "#GENERAL\n",
    "albedo=0.2 #absorptivity=(1-albedo)\n",
    "sigma=5.67*10**(-8) #Stefan-Boltzmann constant W/m2K4\n",
    "R=8.314 #Gas constant J/molK\n",
    "M_w=0.018 #molecular weight of water kg/mol\n"
   ]
  },
  {
   "cell_type": "code",
   "execution_count": 5,
   "metadata": {},
   "outputs": [],
   "source": [
    "#FUNCTIONS\n",
    "\n",
    "# Vapor concentration of air g/m3 --> Cva=mass of water vapour per unit volume of air; mass wv=no of moles of wv * molecular weight of wv\n",
    "# M_w*n/V=M_w*P/(R*T); P-saturated vapour pressure, R-gas constant, T-temperature, M_w-molecular weight of water\n",
    "def Cva(T,RH):\n",
    "    cv_sat = 6.11*np.exp((17.27*T)/(T+237.3))*1.e3*(M_w/(R*(T+273.15)))\n",
    "    cv = cv_sat*RH\n",
    "    return cv\n",
    "\n",
    "# Atmospheric emissivity calculated with solar declination\n",
    "def atm_emissivity(measuredradiation,day,T,RH):\n",
    "    sin_sd = 0.3985 * np.sin(4.869 + 0.0172 * day + 0.03345 * np.sin(6.224 + 0.0172 * day)) #sd- solar declination\n",
    "    cos_sd = np.sqrt(1 - sin_sd ** 2)\n",
    "    h_s = np.arccos(-np.tan(l.latitude) * (sin_sd/cos_sd))\n",
    "    potentialRadiation = 117.5*(1.e6*(h_s*np.sin(l.latitude)*sin_sd+np.cos(l.latitude)*cos_sd*np.sin(h_s))/np.pi) #radiant flux density W/m2, 117.5 is the amount of energy on a 1m2 surface perpendiculat to the sun\n",
    "    T_t=measuredradiation/potentialRadiation\n",
    "    c_l=2.33-3.33*T_t\n",
    "    c_l = np.where(c_l < 0., 0., c_l)\n",
    "    c_l = np.where(c_l > 1., 1., c_l)\n",
    "    c_va=Cva(T,RH)*1.e-3 #g/m3\n",
    "    epsilon_a=0.58*np.power(c_va,1/7)\n",
    "    emissivity = (1-0.84*c_l)*epsilon_a+0.84*c_l # eq 15.4^ and 15.5 in Bittelli et al 2020 \n",
    "    return emissivity\n",
    "\n",
    "# Atmospheric emissivity calculated with zenith angle\n",
    "def emissivity_alt(measuredradiation,df,T,RH): #same as above but with directly from zenith angle from astral\n",
    "    dff = df.copy()\n",
    "    idx = dff.index\n",
    "    Z = []\n",
    "    for i in range(len(dff)):\n",
    "        z = zenith (l.observer, idx[i])\n",
    "        Z.append(z)\n",
    "\n",
    "    dff['zenith']=Z\n",
    "    dff['Qp'] = 1360*np.cos(np.degrees(dff['zenith']))\n",
    "    potentialradiation = dff['Qp'].groupby(pd.Grouper(freq='24H')).transform('sum') \n",
    "    T_t=measuredradiation/potentialradiation\n",
    "    c_l=2.33-3.33*T_t\n",
    "    c_l = np.where(c_l < 0., 0., c_l)\n",
    "    c_l = np.where(c_l > 1., 1., c_l)\n",
    "    c_va=Cva(T,RH)*1.e-3 #g/m3\n",
    "    epsilon_a=0.58*np.power(c_va,1/7)\n",
    "    emissivity = (1-0.84*c_l)*epsilon_a+0.84*c_l\n",
    "    return emissivity\n"
   ]
  },
  {
   "cell_type": "code",
   "execution_count": 6,
   "metadata": {},
   "outputs": [],
   "source": [
    "emissivity = atm_emissivity(ghi['GHI'],ghi.index.dayofyear,weather['Temp(C)'],weather['RH'])\n"
   ]
  },
  {
   "cell_type": "markdown",
   "metadata": {},
   "source": []
  }
 ],
 "metadata": {
  "kernelspec": {
   "display_name": "base",
   "language": "python",
   "name": "python3"
  },
  "language_info": {
   "codemirror_mode": {
    "name": "ipython",
    "version": 3
   },
   "file_extension": ".py",
   "mimetype": "text/x-python",
   "name": "python",
   "nbconvert_exporter": "python",
   "pygments_lexer": "ipython3",
   "version": "3.10.9"
  },
  "orig_nbformat": 4
 },
 "nbformat": 4,
 "nbformat_minor": 2
}
